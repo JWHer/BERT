{
  "nbformat": 4,
  "nbformat_minor": 0,
  "metadata": {
    "colab": {
      "name": "IMSDB.ipynb",
      "provenance": [],
      "authorship_tag": "ABX9TyPzcxr/aGS4QBl0XfGdagWh",
      "include_colab_link": true
    },
    "kernelspec": {
      "name": "python3",
      "display_name": "Python 3"
    },
    "accelerator": "GPU",
    "widgets": {
      "application/vnd.jupyter.widget-state+json": {
        "a6f93a2316864c0fb581ef2ad9ab7a59": {
          "model_module": "@jupyter-widgets/controls",
          "model_name": "HBoxModel",
          "state": {
            "_view_name": "HBoxView",
            "_dom_classes": [],
            "_model_name": "HBoxModel",
            "_view_module": "@jupyter-widgets/controls",
            "_model_module_version": "1.5.0",
            "_view_count": null,
            "_view_module_version": "1.5.0",
            "box_style": "",
            "layout": "IPY_MODEL_ce2d35f5f6e740378a7f820ab0be49d7",
            "_model_module": "@jupyter-widgets/controls",
            "children": [
              "IPY_MODEL_b3fac05d49364d00be75b8ebe9536743",
              "IPY_MODEL_f0d8dca727d249c98d73f39d6b234f82"
            ]
          }
        },
        "ce2d35f5f6e740378a7f820ab0be49d7": {
          "model_module": "@jupyter-widgets/base",
          "model_name": "LayoutModel",
          "state": {
            "_view_name": "LayoutView",
            "grid_template_rows": null,
            "right": null,
            "justify_content": null,
            "_view_module": "@jupyter-widgets/base",
            "overflow": null,
            "_model_module_version": "1.2.0",
            "_view_count": null,
            "flex_flow": null,
            "width": null,
            "min_width": null,
            "border": null,
            "align_items": null,
            "bottom": null,
            "_model_module": "@jupyter-widgets/base",
            "top": null,
            "grid_column": null,
            "overflow_y": null,
            "overflow_x": null,
            "grid_auto_flow": null,
            "grid_area": null,
            "grid_template_columns": null,
            "flex": null,
            "_model_name": "LayoutModel",
            "justify_items": null,
            "grid_row": null,
            "max_height": null,
            "align_content": null,
            "visibility": null,
            "align_self": null,
            "height": null,
            "min_height": null,
            "padding": null,
            "grid_auto_rows": null,
            "grid_gap": null,
            "max_width": null,
            "order": null,
            "_view_module_version": "1.2.0",
            "grid_template_areas": null,
            "object_position": null,
            "object_fit": null,
            "grid_auto_columns": null,
            "margin": null,
            "display": null,
            "left": null
          }
        },
        "b3fac05d49364d00be75b8ebe9536743": {
          "model_module": "@jupyter-widgets/controls",
          "model_name": "FloatProgressModel",
          "state": {
            "_view_name": "ProgressView",
            "style": "IPY_MODEL_b3dfb27e6141444da65ac280e8c8dd1d",
            "_dom_classes": [],
            "description": "Downloading: 100%",
            "_model_name": "FloatProgressModel",
            "bar_style": "success",
            "max": 231508,
            "_view_module": "@jupyter-widgets/controls",
            "_model_module_version": "1.5.0",
            "value": 231508,
            "_view_count": null,
            "_view_module_version": "1.5.0",
            "orientation": "horizontal",
            "min": 0,
            "description_tooltip": null,
            "_model_module": "@jupyter-widgets/controls",
            "layout": "IPY_MODEL_072739c7e4cb41bba3eb351eb6208b00"
          }
        },
        "f0d8dca727d249c98d73f39d6b234f82": {
          "model_module": "@jupyter-widgets/controls",
          "model_name": "HTMLModel",
          "state": {
            "_view_name": "HTMLView",
            "style": "IPY_MODEL_3c9afbf38b914ed3b01832483111a01e",
            "_dom_classes": [],
            "description": "",
            "_model_name": "HTMLModel",
            "placeholder": "​",
            "_view_module": "@jupyter-widgets/controls",
            "_model_module_version": "1.5.0",
            "value": " 232k/232k [00:00&lt;00:00, 3.20MB/s]",
            "_view_count": null,
            "_view_module_version": "1.5.0",
            "description_tooltip": null,
            "_model_module": "@jupyter-widgets/controls",
            "layout": "IPY_MODEL_12776ab08a634d5a928070ba825b9e24"
          }
        },
        "b3dfb27e6141444da65ac280e8c8dd1d": {
          "model_module": "@jupyter-widgets/controls",
          "model_name": "ProgressStyleModel",
          "state": {
            "_view_name": "StyleView",
            "_model_name": "ProgressStyleModel",
            "description_width": "initial",
            "_view_module": "@jupyter-widgets/base",
            "_model_module_version": "1.5.0",
            "_view_count": null,
            "_view_module_version": "1.2.0",
            "bar_color": null,
            "_model_module": "@jupyter-widgets/controls"
          }
        },
        "072739c7e4cb41bba3eb351eb6208b00": {
          "model_module": "@jupyter-widgets/base",
          "model_name": "LayoutModel",
          "state": {
            "_view_name": "LayoutView",
            "grid_template_rows": null,
            "right": null,
            "justify_content": null,
            "_view_module": "@jupyter-widgets/base",
            "overflow": null,
            "_model_module_version": "1.2.0",
            "_view_count": null,
            "flex_flow": null,
            "width": null,
            "min_width": null,
            "border": null,
            "align_items": null,
            "bottom": null,
            "_model_module": "@jupyter-widgets/base",
            "top": null,
            "grid_column": null,
            "overflow_y": null,
            "overflow_x": null,
            "grid_auto_flow": null,
            "grid_area": null,
            "grid_template_columns": null,
            "flex": null,
            "_model_name": "LayoutModel",
            "justify_items": null,
            "grid_row": null,
            "max_height": null,
            "align_content": null,
            "visibility": null,
            "align_self": null,
            "height": null,
            "min_height": null,
            "padding": null,
            "grid_auto_rows": null,
            "grid_gap": null,
            "max_width": null,
            "order": null,
            "_view_module_version": "1.2.0",
            "grid_template_areas": null,
            "object_position": null,
            "object_fit": null,
            "grid_auto_columns": null,
            "margin": null,
            "display": null,
            "left": null
          }
        },
        "3c9afbf38b914ed3b01832483111a01e": {
          "model_module": "@jupyter-widgets/controls",
          "model_name": "DescriptionStyleModel",
          "state": {
            "_view_name": "StyleView",
            "_model_name": "DescriptionStyleModel",
            "description_width": "",
            "_view_module": "@jupyter-widgets/base",
            "_model_module_version": "1.5.0",
            "_view_count": null,
            "_view_module_version": "1.2.0",
            "_model_module": "@jupyter-widgets/controls"
          }
        },
        "12776ab08a634d5a928070ba825b9e24": {
          "model_module": "@jupyter-widgets/base",
          "model_name": "LayoutModel",
          "state": {
            "_view_name": "LayoutView",
            "grid_template_rows": null,
            "right": null,
            "justify_content": null,
            "_view_module": "@jupyter-widgets/base",
            "overflow": null,
            "_model_module_version": "1.2.0",
            "_view_count": null,
            "flex_flow": null,
            "width": null,
            "min_width": null,
            "border": null,
            "align_items": null,
            "bottom": null,
            "_model_module": "@jupyter-widgets/base",
            "top": null,
            "grid_column": null,
            "overflow_y": null,
            "overflow_x": null,
            "grid_auto_flow": null,
            "grid_area": null,
            "grid_template_columns": null,
            "flex": null,
            "_model_name": "LayoutModel",
            "justify_items": null,
            "grid_row": null,
            "max_height": null,
            "align_content": null,
            "visibility": null,
            "align_self": null,
            "height": null,
            "min_height": null,
            "padding": null,
            "grid_auto_rows": null,
            "grid_gap": null,
            "max_width": null,
            "order": null,
            "_view_module_version": "1.2.0",
            "grid_template_areas": null,
            "object_position": null,
            "object_fit": null,
            "grid_auto_columns": null,
            "margin": null,
            "display": null,
            "left": null
          }
        },
        "caaff4f46b1f4e25af3385950fade38b": {
          "model_module": "@jupyter-widgets/controls",
          "model_name": "HBoxModel",
          "state": {
            "_view_name": "HBoxView",
            "_dom_classes": [],
            "_model_name": "HBoxModel",
            "_view_module": "@jupyter-widgets/controls",
            "_model_module_version": "1.5.0",
            "_view_count": null,
            "_view_module_version": "1.5.0",
            "box_style": "",
            "layout": "IPY_MODEL_a7ff0f6234214b9d8adae9fedf21ca30",
            "_model_module": "@jupyter-widgets/controls",
            "children": [
              "IPY_MODEL_65bcbc6eafbd4f1b82c39e99ed94dccf",
              "IPY_MODEL_d52acd29954a4fa282428dbc0ddcdb49"
            ]
          }
        },
        "a7ff0f6234214b9d8adae9fedf21ca30": {
          "model_module": "@jupyter-widgets/base",
          "model_name": "LayoutModel",
          "state": {
            "_view_name": "LayoutView",
            "grid_template_rows": null,
            "right": null,
            "justify_content": null,
            "_view_module": "@jupyter-widgets/base",
            "overflow": null,
            "_model_module_version": "1.2.0",
            "_view_count": null,
            "flex_flow": null,
            "width": null,
            "min_width": null,
            "border": null,
            "align_items": null,
            "bottom": null,
            "_model_module": "@jupyter-widgets/base",
            "top": null,
            "grid_column": null,
            "overflow_y": null,
            "overflow_x": null,
            "grid_auto_flow": null,
            "grid_area": null,
            "grid_template_columns": null,
            "flex": null,
            "_model_name": "LayoutModel",
            "justify_items": null,
            "grid_row": null,
            "max_height": null,
            "align_content": null,
            "visibility": null,
            "align_self": null,
            "height": null,
            "min_height": null,
            "padding": null,
            "grid_auto_rows": null,
            "grid_gap": null,
            "max_width": null,
            "order": null,
            "_view_module_version": "1.2.0",
            "grid_template_areas": null,
            "object_position": null,
            "object_fit": null,
            "grid_auto_columns": null,
            "margin": null,
            "display": null,
            "left": null
          }
        },
        "65bcbc6eafbd4f1b82c39e99ed94dccf": {
          "model_module": "@jupyter-widgets/controls",
          "model_name": "FloatProgressModel",
          "state": {
            "_view_name": "ProgressView",
            "style": "IPY_MODEL_c0e4e943584a45ec8bdc34064a7c9004",
            "_dom_classes": [],
            "description": "Downloading: 100%",
            "_model_name": "FloatProgressModel",
            "bar_style": "success",
            "max": 433,
            "_view_module": "@jupyter-widgets/controls",
            "_model_module_version": "1.5.0",
            "value": 433,
            "_view_count": null,
            "_view_module_version": "1.5.0",
            "orientation": "horizontal",
            "min": 0,
            "description_tooltip": null,
            "_model_module": "@jupyter-widgets/controls",
            "layout": "IPY_MODEL_aebf53ae8797482485fad22b9b1236f6"
          }
        },
        "d52acd29954a4fa282428dbc0ddcdb49": {
          "model_module": "@jupyter-widgets/controls",
          "model_name": "HTMLModel",
          "state": {
            "_view_name": "HTMLView",
            "style": "IPY_MODEL_55c6837793324da6abb5ef9b2001d900",
            "_dom_classes": [],
            "description": "",
            "_model_name": "HTMLModel",
            "placeholder": "​",
            "_view_module": "@jupyter-widgets/controls",
            "_model_module_version": "1.5.0",
            "value": " 433/433 [00:00&lt;00:00, 4.31kB/s]",
            "_view_count": null,
            "_view_module_version": "1.5.0",
            "description_tooltip": null,
            "_model_module": "@jupyter-widgets/controls",
            "layout": "IPY_MODEL_070ddf01df4347dda224e3e8a34974a0"
          }
        },
        "c0e4e943584a45ec8bdc34064a7c9004": {
          "model_module": "@jupyter-widgets/controls",
          "model_name": "ProgressStyleModel",
          "state": {
            "_view_name": "StyleView",
            "_model_name": "ProgressStyleModel",
            "description_width": "initial",
            "_view_module": "@jupyter-widgets/base",
            "_model_module_version": "1.5.0",
            "_view_count": null,
            "_view_module_version": "1.2.0",
            "bar_color": null,
            "_model_module": "@jupyter-widgets/controls"
          }
        },
        "aebf53ae8797482485fad22b9b1236f6": {
          "model_module": "@jupyter-widgets/base",
          "model_name": "LayoutModel",
          "state": {
            "_view_name": "LayoutView",
            "grid_template_rows": null,
            "right": null,
            "justify_content": null,
            "_view_module": "@jupyter-widgets/base",
            "overflow": null,
            "_model_module_version": "1.2.0",
            "_view_count": null,
            "flex_flow": null,
            "width": null,
            "min_width": null,
            "border": null,
            "align_items": null,
            "bottom": null,
            "_model_module": "@jupyter-widgets/base",
            "top": null,
            "grid_column": null,
            "overflow_y": null,
            "overflow_x": null,
            "grid_auto_flow": null,
            "grid_area": null,
            "grid_template_columns": null,
            "flex": null,
            "_model_name": "LayoutModel",
            "justify_items": null,
            "grid_row": null,
            "max_height": null,
            "align_content": null,
            "visibility": null,
            "align_self": null,
            "height": null,
            "min_height": null,
            "padding": null,
            "grid_auto_rows": null,
            "grid_gap": null,
            "max_width": null,
            "order": null,
            "_view_module_version": "1.2.0",
            "grid_template_areas": null,
            "object_position": null,
            "object_fit": null,
            "grid_auto_columns": null,
            "margin": null,
            "display": null,
            "left": null
          }
        },
        "55c6837793324da6abb5ef9b2001d900": {
          "model_module": "@jupyter-widgets/controls",
          "model_name": "DescriptionStyleModel",
          "state": {
            "_view_name": "StyleView",
            "_model_name": "DescriptionStyleModel",
            "description_width": "",
            "_view_module": "@jupyter-widgets/base",
            "_model_module_version": "1.5.0",
            "_view_count": null,
            "_view_module_version": "1.2.0",
            "_model_module": "@jupyter-widgets/controls"
          }
        },
        "070ddf01df4347dda224e3e8a34974a0": {
          "model_module": "@jupyter-widgets/base",
          "model_name": "LayoutModel",
          "state": {
            "_view_name": "LayoutView",
            "grid_template_rows": null,
            "right": null,
            "justify_content": null,
            "_view_module": "@jupyter-widgets/base",
            "overflow": null,
            "_model_module_version": "1.2.0",
            "_view_count": null,
            "flex_flow": null,
            "width": null,
            "min_width": null,
            "border": null,
            "align_items": null,
            "bottom": null,
            "_model_module": "@jupyter-widgets/base",
            "top": null,
            "grid_column": null,
            "overflow_y": null,
            "overflow_x": null,
            "grid_auto_flow": null,
            "grid_area": null,
            "grid_template_columns": null,
            "flex": null,
            "_model_name": "LayoutModel",
            "justify_items": null,
            "grid_row": null,
            "max_height": null,
            "align_content": null,
            "visibility": null,
            "align_self": null,
            "height": null,
            "min_height": null,
            "padding": null,
            "grid_auto_rows": null,
            "grid_gap": null,
            "max_width": null,
            "order": null,
            "_view_module_version": "1.2.0",
            "grid_template_areas": null,
            "object_position": null,
            "object_fit": null,
            "grid_auto_columns": null,
            "margin": null,
            "display": null,
            "left": null
          }
        },
        "103f96c1044b4688922015ebf315a53b": {
          "model_module": "@jupyter-widgets/controls",
          "model_name": "HBoxModel",
          "state": {
            "_view_name": "HBoxView",
            "_dom_classes": [],
            "_model_name": "HBoxModel",
            "_view_module": "@jupyter-widgets/controls",
            "_model_module_version": "1.5.0",
            "_view_count": null,
            "_view_module_version": "1.5.0",
            "box_style": "",
            "layout": "IPY_MODEL_7a76058141aa422684910837ea29a74e",
            "_model_module": "@jupyter-widgets/controls",
            "children": [
              "IPY_MODEL_eb8c6166a6ec47a09e5711b921fa581b",
              "IPY_MODEL_86982a9b57fd4f24a6f03a61cc97caa2"
            ]
          }
        },
        "7a76058141aa422684910837ea29a74e": {
          "model_module": "@jupyter-widgets/base",
          "model_name": "LayoutModel",
          "state": {
            "_view_name": "LayoutView",
            "grid_template_rows": null,
            "right": null,
            "justify_content": null,
            "_view_module": "@jupyter-widgets/base",
            "overflow": null,
            "_model_module_version": "1.2.0",
            "_view_count": null,
            "flex_flow": null,
            "width": null,
            "min_width": null,
            "border": null,
            "align_items": null,
            "bottom": null,
            "_model_module": "@jupyter-widgets/base",
            "top": null,
            "grid_column": null,
            "overflow_y": null,
            "overflow_x": null,
            "grid_auto_flow": null,
            "grid_area": null,
            "grid_template_columns": null,
            "flex": null,
            "_model_name": "LayoutModel",
            "justify_items": null,
            "grid_row": null,
            "max_height": null,
            "align_content": null,
            "visibility": null,
            "align_self": null,
            "height": null,
            "min_height": null,
            "padding": null,
            "grid_auto_rows": null,
            "grid_gap": null,
            "max_width": null,
            "order": null,
            "_view_module_version": "1.2.0",
            "grid_template_areas": null,
            "object_position": null,
            "object_fit": null,
            "grid_auto_columns": null,
            "margin": null,
            "display": null,
            "left": null
          }
        },
        "eb8c6166a6ec47a09e5711b921fa581b": {
          "model_module": "@jupyter-widgets/controls",
          "model_name": "FloatProgressModel",
          "state": {
            "_view_name": "ProgressView",
            "style": "IPY_MODEL_795e941d6c6141d9a8abf474b01cf370",
            "_dom_classes": [],
            "description": "Downloading: 100%",
            "_model_name": "FloatProgressModel",
            "bar_style": "success",
            "max": 440473133,
            "_view_module": "@jupyter-widgets/controls",
            "_model_module_version": "1.5.0",
            "value": 440473133,
            "_view_count": null,
            "_view_module_version": "1.5.0",
            "orientation": "horizontal",
            "min": 0,
            "description_tooltip": null,
            "_model_module": "@jupyter-widgets/controls",
            "layout": "IPY_MODEL_2681b6590a9a467c94618efb1c88be9e"
          }
        },
        "86982a9b57fd4f24a6f03a61cc97caa2": {
          "model_module": "@jupyter-widgets/controls",
          "model_name": "HTMLModel",
          "state": {
            "_view_name": "HTMLView",
            "style": "IPY_MODEL_4554fc283643479ea903fe1beaaf16eb",
            "_dom_classes": [],
            "description": "",
            "_model_name": "HTMLModel",
            "placeholder": "​",
            "_view_module": "@jupyter-widgets/controls",
            "_model_module_version": "1.5.0",
            "value": " 440M/440M [00:07&lt;00:00, 56.6MB/s]",
            "_view_count": null,
            "_view_module_version": "1.5.0",
            "description_tooltip": null,
            "_model_module": "@jupyter-widgets/controls",
            "layout": "IPY_MODEL_837c0af17c5e40b5ab90c8757d931ce3"
          }
        },
        "795e941d6c6141d9a8abf474b01cf370": {
          "model_module": "@jupyter-widgets/controls",
          "model_name": "ProgressStyleModel",
          "state": {
            "_view_name": "StyleView",
            "_model_name": "ProgressStyleModel",
            "description_width": "initial",
            "_view_module": "@jupyter-widgets/base",
            "_model_module_version": "1.5.0",
            "_view_count": null,
            "_view_module_version": "1.2.0",
            "bar_color": null,
            "_model_module": "@jupyter-widgets/controls"
          }
        },
        "2681b6590a9a467c94618efb1c88be9e": {
          "model_module": "@jupyter-widgets/base",
          "model_name": "LayoutModel",
          "state": {
            "_view_name": "LayoutView",
            "grid_template_rows": null,
            "right": null,
            "justify_content": null,
            "_view_module": "@jupyter-widgets/base",
            "overflow": null,
            "_model_module_version": "1.2.0",
            "_view_count": null,
            "flex_flow": null,
            "width": null,
            "min_width": null,
            "border": null,
            "align_items": null,
            "bottom": null,
            "_model_module": "@jupyter-widgets/base",
            "top": null,
            "grid_column": null,
            "overflow_y": null,
            "overflow_x": null,
            "grid_auto_flow": null,
            "grid_area": null,
            "grid_template_columns": null,
            "flex": null,
            "_model_name": "LayoutModel",
            "justify_items": null,
            "grid_row": null,
            "max_height": null,
            "align_content": null,
            "visibility": null,
            "align_self": null,
            "height": null,
            "min_height": null,
            "padding": null,
            "grid_auto_rows": null,
            "grid_gap": null,
            "max_width": null,
            "order": null,
            "_view_module_version": "1.2.0",
            "grid_template_areas": null,
            "object_position": null,
            "object_fit": null,
            "grid_auto_columns": null,
            "margin": null,
            "display": null,
            "left": null
          }
        },
        "4554fc283643479ea903fe1beaaf16eb": {
          "model_module": "@jupyter-widgets/controls",
          "model_name": "DescriptionStyleModel",
          "state": {
            "_view_name": "StyleView",
            "_model_name": "DescriptionStyleModel",
            "description_width": "",
            "_view_module": "@jupyter-widgets/base",
            "_model_module_version": "1.5.0",
            "_view_count": null,
            "_view_module_version": "1.2.0",
            "_model_module": "@jupyter-widgets/controls"
          }
        },
        "837c0af17c5e40b5ab90c8757d931ce3": {
          "model_module": "@jupyter-widgets/base",
          "model_name": "LayoutModel",
          "state": {
            "_view_name": "LayoutView",
            "grid_template_rows": null,
            "right": null,
            "justify_content": null,
            "_view_module": "@jupyter-widgets/base",
            "overflow": null,
            "_model_module_version": "1.2.0",
            "_view_count": null,
            "flex_flow": null,
            "width": null,
            "min_width": null,
            "border": null,
            "align_items": null,
            "bottom": null,
            "_model_module": "@jupyter-widgets/base",
            "top": null,
            "grid_column": null,
            "overflow_y": null,
            "overflow_x": null,
            "grid_auto_flow": null,
            "grid_area": null,
            "grid_template_columns": null,
            "flex": null,
            "_model_name": "LayoutModel",
            "justify_items": null,
            "grid_row": null,
            "max_height": null,
            "align_content": null,
            "visibility": null,
            "align_self": null,
            "height": null,
            "min_height": null,
            "padding": null,
            "grid_auto_rows": null,
            "grid_gap": null,
            "max_width": null,
            "order": null,
            "_view_module_version": "1.2.0",
            "grid_template_areas": null,
            "object_position": null,
            "object_fit": null,
            "grid_auto_columns": null,
            "margin": null,
            "display": null,
            "left": null
          }
        }
      }
    }
  },
  "cells": [
    {
      "cell_type": "markdown",
      "metadata": {
        "id": "view-in-github",
        "colab_type": "text"
      },
      "source": [
        "<a href=\"https://colab.research.google.com/github/JWHer/BERT/blob/main/imsdb/IMSDB_torch.ipynb\" target=\"_parent\"><img src=\"https://colab.research.google.com/assets/colab-badge.svg\" alt=\"Open In Colab\"/></a>"
      ]
    },
    {
      "cell_type": "code",
      "metadata": {
        "colab": {
          "base_uri": "https://localhost:8080/"
        },
        "id": "_wh_fzIJ9IB1",
        "outputId": "6f84d3f7-b3a6-4f2f-eda9-4f4b79ba7587"
      },
      "source": [
        "!pip install transformers\n",
        "#https://medium.com/@eyfydsyd97/bert%EB%A5%BC-%ED%99%9C%EC%9A%A9%ED%95%9C-classification-by-pytorch-2a6d4adaf162"
      ],
      "execution_count": 3,
      "outputs": [
        {
          "output_type": "stream",
          "text": [
            "Collecting transformers\n",
            "\u001b[?25l  Downloading https://files.pythonhosted.org/packages/99/84/7bc03215279f603125d844bf81c3fb3f2d50fe8e511546eb4897e4be2067/transformers-4.0.0-py3-none-any.whl (1.4MB)\n",
            "\u001b[K     |████████████████████████████████| 1.4MB 19.6MB/s \n",
            "\u001b[?25hCollecting tokenizers==0.9.4\n",
            "\u001b[?25l  Downloading https://files.pythonhosted.org/packages/0f/1c/e789a8b12e28be5bc1ce2156cf87cb522b379be9cadc7ad8091a4cc107c4/tokenizers-0.9.4-cp36-cp36m-manylinux2010_x86_64.whl (2.9MB)\n",
            "\u001b[K     |████████████████████████████████| 2.9MB 60.5MB/s \n",
            "\u001b[?25hRequirement already satisfied: packaging in /usr/local/lib/python3.6/dist-packages (from transformers) (20.4)\n",
            "Requirement already satisfied: filelock in /usr/local/lib/python3.6/dist-packages (from transformers) (3.0.12)\n",
            "Requirement already satisfied: numpy in /usr/local/lib/python3.6/dist-packages (from transformers) (1.18.5)\n",
            "Requirement already satisfied: tqdm>=4.27 in /usr/local/lib/python3.6/dist-packages (from transformers) (4.41.1)\n",
            "Requirement already satisfied: regex!=2019.12.17 in /usr/local/lib/python3.6/dist-packages (from transformers) (2019.12.20)\n",
            "Collecting sacremoses\n",
            "\u001b[?25l  Downloading https://files.pythonhosted.org/packages/7d/34/09d19aff26edcc8eb2a01bed8e98f13a1537005d31e95233fd48216eed10/sacremoses-0.0.43.tar.gz (883kB)\n",
            "\u001b[K     |████████████████████████████████| 890kB 55.0MB/s \n",
            "\u001b[?25hRequirement already satisfied: requests in /usr/local/lib/python3.6/dist-packages (from transformers) (2.23.0)\n",
            "Requirement already satisfied: dataclasses; python_version < \"3.7\" in /usr/local/lib/python3.6/dist-packages (from transformers) (0.8)\n",
            "Requirement already satisfied: pyparsing>=2.0.2 in /usr/local/lib/python3.6/dist-packages (from packaging->transformers) (2.4.7)\n",
            "Requirement already satisfied: six in /usr/local/lib/python3.6/dist-packages (from packaging->transformers) (1.15.0)\n",
            "Requirement already satisfied: click in /usr/local/lib/python3.6/dist-packages (from sacremoses->transformers) (7.1.2)\n",
            "Requirement already satisfied: joblib in /usr/local/lib/python3.6/dist-packages (from sacremoses->transformers) (0.17.0)\n",
            "Requirement already satisfied: urllib3!=1.25.0,!=1.25.1,<1.26,>=1.21.1 in /usr/local/lib/python3.6/dist-packages (from requests->transformers) (1.24.3)\n",
            "Requirement already satisfied: chardet<4,>=3.0.2 in /usr/local/lib/python3.6/dist-packages (from requests->transformers) (3.0.4)\n",
            "Requirement already satisfied: idna<3,>=2.5 in /usr/local/lib/python3.6/dist-packages (from requests->transformers) (2.10)\n",
            "Requirement already satisfied: certifi>=2017.4.17 in /usr/local/lib/python3.6/dist-packages (from requests->transformers) (2020.11.8)\n",
            "Building wheels for collected packages: sacremoses\n",
            "  Building wheel for sacremoses (setup.py) ... \u001b[?25l\u001b[?25hdone\n",
            "  Created wheel for sacremoses: filename=sacremoses-0.0.43-cp36-none-any.whl size=893257 sha256=dc14bc313536721abc28c0d0f18cb675d8f5dbf60294335870eb61854435ffd7\n",
            "  Stored in directory: /root/.cache/pip/wheels/29/3c/fd/7ce5c3f0666dab31a50123635e6fb5e19ceb42ce38d4e58f45\n",
            "Successfully built sacremoses\n",
            "Installing collected packages: tokenizers, sacremoses, transformers\n",
            "Successfully installed sacremoses-0.0.43 tokenizers-0.9.4 transformers-4.0.0\n"
          ],
          "name": "stdout"
        }
      ]
    },
    {
      "cell_type": "code",
      "metadata": {
        "id": "0j0nC3Fe8qA3"
      },
      "source": [
        "import os\n",
        "import pandas as pd\n",
        "import numpy as np\n",
        "from tqdm import tqdm\n",
        "from sklearn.metrics import accuracy_score\n",
        "\n",
        "import torch\n",
        "import torch.nn as nn\n",
        "from torch.utils.data import Dataset\n",
        "from torch.utils.data import DataLoader\n",
        "\n",
        "import gc\n",
        "\n",
        "import transformers\n",
        "from transformers import BertTokenizer\n",
        "from transformers import BertModel\n",
        "\n",
        "# 하이퍼파라미터\n",
        "Max_len=512\n",
        "Batch_size=8\n",
        "num_category = 8\n",
        "lr = 3e-5\n",
        "EPOCHS=3"
      ],
      "execution_count": 4,
      "outputs": []
    },
    {
      "cell_type": "code",
      "metadata": {
        "colab": {
          "base_uri": "https://localhost:8080/"
        },
        "id": "QMXiyhEl8lKi",
        "outputId": "f48aef1a-fb89-4002-a6eb-30a678722002"
      },
      "source": [
        "#Load data\n",
        "from google.colab import drive\n",
        "drive.mount('/content/drive')"
      ],
      "execution_count": 5,
      "outputs": [
        {
          "output_type": "stream",
          "text": [
            "Mounted at /content/drive\n"
          ],
          "name": "stdout"
        }
      ]
    },
    {
      "cell_type": "code",
      "metadata": {
        "colab": {
          "base_uri": "https://localhost:8080/"
        },
        "id": "RCQQIGWj8gl5",
        "outputId": "a9be7deb-7758-4500-dfc1-3fc643bdab85"
      },
      "source": [
        "# Check path\n",
        "PATH='/content/drive/My Drive/datas/'\n",
        "filenames=os.listdir(PATH)\n",
        "print(filenames)"
      ],
      "execution_count": 6,
      "outputs": [
        {
          "output_type": "stream",
          "text": [
            "['186_Pirates of the Caribbean.csv', '51_conan_the_barbarian.csv', '229_Surrogates.csv', '230_Swordfish.csv', '231_Terminator.csv', 'last.pt', 'best.pt', 'acc.csv']\n"
          ],
          "name": "stdout"
        }
      ]
    },
    {
      "cell_type": "code",
      "metadata": {
        "colab": {
          "base_uri": "https://localhost:8080/"
        },
        "id": "_6lyRLBU8wh4",
        "outputId": "9baf51bb-2fd7-4225-bce2-bbc3995240b4"
      },
      "source": [
        "# 데이터\n",
        "train=pd.read_csv(PATH+\"231_Terminator.csv\")\n",
        "print(train)\n",
        "train_text = train['sentence']\n",
        "train_label = train['label']\n",
        "\n",
        "valid=pd.read_csv(PATH+\"51_conan_the_barbarian.csv\")\n",
        "print(valid)\n",
        "valid_text = valid['sentence']\n",
        "valid_label = valid['label']\n",
        "print(\"\\ndata loaded\\n\")"
      ],
      "execution_count": 7,
      "outputs": [
        {
          "output_type": "stream",
          "text": [
            "                                               sentence  label\n",
            "0                            \" T E R M I N A T O R \" by      0\n",
            "1                                         James Cameron      0\n",
            "2                                       Registered WGAw      0\n",
            "3                                          Fourth Draft      0\n",
            "4                                             20.Apr.83      0\n",
            "...                                                 ...    ...\n",
            "4233                                              SARAH      2\n",
            "4234                                          (quietly)      4\n",
            "4235                                            I know.      3\n",
            "4236  CAMERA CRANES UP as she pulls away, driving ac...      1\n",
            "4237  A brilliant flash crescendos from horizon to h...      1\n",
            "\n",
            "[4238 rows x 2 columns]\n",
            "                                               sentence  label\n",
            "0     In the darkness, we hear the solitary sound of...      1\n",
            "1                                              NARRATOR      2\n",
            "2     In between the years when the oceans drank Atl...      3\n",
            "3     Hither came Conan, the Cimmerian: a thief, a s...      3\n",
            "4               Muffled sounds, as if underwater, echo:      1\n",
            "...                                                 ...    ...\n",
            "3380            A fire that will never be extinguished.      1\n",
            "3381                                            TAMARA       2\n",
            "3382                                       Live, Conan.      3\n",
            "3383                                              Live.      3\n",
            "3384                                     FADE TO BLACK.      0\n",
            "\n",
            "[3385 rows x 2 columns]\n",
            "\n",
            "data loaded\n",
            "\n"
          ],
          "name": "stdout"
        }
      ]
    },
    {
      "cell_type": "code",
      "metadata": {
        "colab": {
          "base_uri": "https://localhost:8080/",
          "height": 67,
          "referenced_widgets": [
            "a6f93a2316864c0fb581ef2ad9ab7a59",
            "ce2d35f5f6e740378a7f820ab0be49d7",
            "b3fac05d49364d00be75b8ebe9536743",
            "f0d8dca727d249c98d73f39d6b234f82",
            "b3dfb27e6141444da65ac280e8c8dd1d",
            "072739c7e4cb41bba3eb351eb6208b00",
            "3c9afbf38b914ed3b01832483111a01e",
            "12776ab08a634d5a928070ba825b9e24"
          ]
        },
        "id": "wDQAt14G8yta",
        "outputId": "2e52915a-e69c-4016-e2fb-570fb50408c5"
      },
      "source": [
        "# 토크나이저\n",
        "tokenizer= BertTokenizer.from_pretrained(\"bert-base-uncased\", do_lower_case=True)\n",
        "\n",
        "def text_processing(text, Max_len):\n",
        "  input_ids = []\n",
        "  mask_ids = []\n",
        "  token_type_ids = []\n",
        "  for line in text:\n",
        "    # [cls], [sep] 추가 Max_len 길이 맞추기  \n",
        "    encoded_line = tokenizer.encode(line, add_special_tokens = True, max_length=Max_len, truncation=True) \n",
        "    input = encoded_line + [0]*(Max_len-len(encoded_line))\n",
        "    token_type =  [0]*len(input)\n",
        "    mask = [1]*len(encoded_line)+[0]*(Max_len-len(encoded_line))    \n",
        "    input_ids.append(torch.tensor(input))\n",
        "    token_type_ids.append(torch.tensor(token_type))\n",
        "    mask_ids.append(torch.tensor(mask))\n",
        "\n",
        "  return input_ids, token_type_ids, mask_ids\n",
        "  \n",
        "train_input_ids, train_token_type_ids, train_mask_ids =text_processing(train_text, Max_len)\n",
        "valid_input_ids, valid_token_type_ids, valid_mask_ids =text_processing(valid_text, Max_len)  "
      ],
      "execution_count": 8,
      "outputs": [
        {
          "output_type": "display_data",
          "data": {
            "application/vnd.jupyter.widget-view+json": {
              "model_id": "a6f93a2316864c0fb581ef2ad9ab7a59",
              "version_minor": 0,
              "version_major": 2
            },
            "text/plain": [
              "HBox(children=(FloatProgress(value=0.0, description='Downloading', max=231508.0, style=ProgressStyle(descripti…"
            ]
          },
          "metadata": {
            "tags": []
          }
        },
        {
          "output_type": "stream",
          "text": [
            "\n"
          ],
          "name": "stdout"
        }
      ]
    },
    {
      "cell_type": "code",
      "metadata": {
        "id": "mb6kAiac81UO"
      },
      "source": [
        "# 데이터로더\n",
        "class BertCls_dataset(Dataset):\n",
        "  def __init__(self, input_ids, token_type_ids, mask_ids, label):\n",
        "    self.input = input_ids\n",
        "    self.token_type = token_type_ids\n",
        "    self.attn_mask = mask_ids\n",
        "    self.label = label\n",
        "  def __len__(self):\n",
        "    return len(self.input)  \n",
        "\n",
        "  def __getitem__(self, idx):\n",
        "    x = self.input[idx]\n",
        "    y = self.token_type[idx]\n",
        "    z = self.attn_mask[idx]\n",
        "    label = self.label[idx]\n",
        "    label = [label]\n",
        "\n",
        "    return x, y, z ,torch.tensor(label)\n",
        "\n",
        "train_dataset=BertCls_dataset(train_input_ids, train_token_type_ids, train_mask_ids, train_label)\n",
        "valid_dataset=BertCls_dataset(valid_input_ids, valid_token_type_ids, valid_mask_ids, valid_label)\n",
        "\n",
        "train_dataloader = DataLoader(train_dataset, batch_size=Batch_size, shuffle=True)\n",
        "valid_dataloader = DataLoader(valid_dataset, batch_size=Batch_size, shuffle=True)\n"
      ],
      "execution_count": 9,
      "outputs": []
    },
    {
      "cell_type": "code",
      "metadata": {
        "colab": {
          "base_uri": "https://localhost:8080/",
          "height": 117,
          "referenced_widgets": [
            "caaff4f46b1f4e25af3385950fade38b",
            "a7ff0f6234214b9d8adae9fedf21ca30",
            "65bcbc6eafbd4f1b82c39e99ed94dccf",
            "d52acd29954a4fa282428dbc0ddcdb49",
            "c0e4e943584a45ec8bdc34064a7c9004",
            "aebf53ae8797482485fad22b9b1236f6",
            "55c6837793324da6abb5ef9b2001d900",
            "070ddf01df4347dda224e3e8a34974a0",
            "103f96c1044b4688922015ebf315a53b",
            "7a76058141aa422684910837ea29a74e",
            "eb8c6166a6ec47a09e5711b921fa581b",
            "86982a9b57fd4f24a6f03a61cc97caa2",
            "795e941d6c6141d9a8abf474b01cf370",
            "2681b6590a9a467c94618efb1c88be9e",
            "4554fc283643479ea903fe1beaaf16eb",
            "837c0af17c5e40b5ab90c8757d931ce3"
          ]
        },
        "id": "EIqqJxo-83Ht",
        "outputId": "033ecdcb-4c26-4ae4-d7f9-0510998a2fdd"
      },
      "source": [
        "# 모델\n",
        "bertcls = BertModel.from_pretrained(\"bert-base-uncased\", output_hidden_states=True)\n",
        "\n",
        "class BertCls(nn.Module):\n",
        "  def __init__(self):\n",
        "    super().__init__()\n",
        "    self.bert_cls = bertcls\n",
        "\n",
        "    self.relu = nn.ReLU()\n",
        "    self.dropout = nn.Dropout(0.3)\n",
        "    self.out = nn.Linear(768*2, num_category)\n",
        "\n",
        "  def forward(self, input_ids, token_type_ids, mask_ids):\n",
        "    #print(input_ids, mask_ids, token_type_ids)\n",
        "    outputs = self.bert_cls(input_ids, attention_mask=mask_ids, token_type_ids=token_type_ids)\n",
        "    #print(\"output: \", end=\"\")\n",
        "    #print(outputs.last_hidden_state)\n",
        "    output=outputs.last_hidden_state\n",
        "\n",
        "    apool = torch.mean(output, 1)\n",
        "    mpool, _ = torch.max(output, 1)\n",
        "    x = torch.cat((apool, mpool), 1) #[cls]를 사용하는 방식 대신, mean, max를 한 후 concat한 output을 사용하였다.\n",
        "    x = self.relu(x)\n",
        "    x = self.dropout(x)\n",
        "    x = self.out(x)\n",
        "    return x\n",
        "\n",
        "  def save(self, path):\n",
        "    torch.save(self.state_dict(), path)\n",
        "\n",
        "  def load(self, path):\n",
        "    self.load_state_dict(torch.load(path))\n",
        "\n",
        "  def predict(self, strList):\n",
        "\n",
        "    input_ids, token_type_ids, mask_ids =text_processing(strList, Max_len)\n",
        "\n",
        "    input_ids = input_ids[0].resize_(1, len(input_ids[0])).to(DEVICE, dtype=torch.long)\n",
        "    token_type_ids = token_type_ids[0].resize_(1,len(token_type_ids[0])).to(DEVICE, dtype=torch.long)\n",
        "    mask_ids=mask_ids[0].resize_(1,len(mask_ids[0])).to(DEVICE, dtype=torch.long)\n",
        "\n",
        "    # label=[0]*len(strList)\n",
        "    # dataset=BertCls_dataset(input_ids, token_type_ids, mask_ids, label)\n",
        "\n",
        "    # input_ids, token_type_ids, attn_mask_ids, label = dataset[0]\n",
        "    # input_ids = input_ids.to(DEVICE, dtype=torch.long)\n",
        "    # token_type_ids = token_type_ids.to(DEVICE, dtype=torch.long)\n",
        "    # attn_mask_ids = attn_mask_ids.to(DEVICE, dtype=torch.long)\n",
        "    #label = label.to(DEVICE, dtype=torch.long)\n",
        "\n",
        "    with torch.no_grad():\n",
        "      output = model(input_ids, token_type_ids, mask_ids)\n",
        "    return torch.argmax(output[0]).item()"
      ],
      "execution_count": 10,
      "outputs": [
        {
          "output_type": "display_data",
          "data": {
            "application/vnd.jupyter.widget-view+json": {
              "model_id": "caaff4f46b1f4e25af3385950fade38b",
              "version_minor": 0,
              "version_major": 2
            },
            "text/plain": [
              "HBox(children=(FloatProgress(value=0.0, description='Downloading', max=433.0, style=ProgressStyle(description_…"
            ]
          },
          "metadata": {
            "tags": []
          }
        },
        {
          "output_type": "stream",
          "text": [
            "\n"
          ],
          "name": "stdout"
        },
        {
          "output_type": "display_data",
          "data": {
            "application/vnd.jupyter.widget-view+json": {
              "model_id": "103f96c1044b4688922015ebf315a53b",
              "version_minor": 0,
              "version_major": 2
            },
            "text/plain": [
              "HBox(children=(FloatProgress(value=0.0, description='Downloading', max=440473133.0, style=ProgressStyle(descri…"
            ]
          },
          "metadata": {
            "tags": []
          }
        },
        {
          "output_type": "stream",
          "text": [
            "\n"
          ],
          "name": "stdout"
        }
      ]
    },
    {
      "cell_type": "code",
      "metadata": {
        "id": "Mj8NWshf84in"
      },
      "source": [
        "# 학습\n",
        "def train_one_epoch(data_loader, model, optimizer, device, loss_fn):\n",
        "  \n",
        "  model.train()\n",
        "  tk0 = tqdm(data_loader, total=len(data_loader))\n",
        "  total_loss = 0.0\n",
        "  \n",
        "  for bi, d in enumerate(tk0):\n",
        "      input_ids, token_type_ids, attn_mask_ids, label = d\n",
        "      input_ids = input_ids.to(device, dtype=torch.long)\n",
        "      token_type_ids = token_type_ids.to(device, dtype=torch.long)\n",
        "      attn_mask_ids = attn_mask_ids.to(device, dtype=torch.long)\n",
        "      label = label.to(device, dtype=torch.long)\n",
        "\n",
        "      #model.zero_grad()\n",
        "      output = model(input_ids, token_type_ids, attn_mask_ids)\n",
        "      loss = loss_fn(output, label.view(-1))\n",
        "      total_loss += loss.item()\n",
        "      loss.backward()\n",
        "      optimizer.step()\n",
        "      optimizer.zero_grad()\n",
        "\n",
        "      del output\n",
        "      torch.cuda.empty_cache()\n",
        "\n",
        "  del tk0\n",
        "  avg_train_loss = total_loss / len(data_loader) \n",
        "  print(\" Average training loss: {0:.2f}\".format(avg_train_loss))  \n",
        "  return avg_train_loss\n",
        "\n",
        "def eval_one_epoch(data_loader, model,  device, loss_fn):\n",
        "\n",
        "  model.eval()\n",
        "  tk0 = tqdm(data_loader, total=len(data_loader))\n",
        "  fin_targets = []\n",
        "  fin_outputs = []\n",
        "  \n",
        "  with torch.no_grad():\n",
        "\n",
        "    for bi, d in enumerate(tk0):\n",
        "      input_ids, token_type_ids, attn_mask_ids, label = d\n",
        "      input_ids = input_ids.to(device, dtype=torch.long)\n",
        "      token_type_ids = token_type_ids.to(device, dtype=torch.long)\n",
        "      attn_mask_ids = attn_mask_ids.to(device, dtype=torch.long)\n",
        "      label = label.to(device, dtype=torch.long)\n",
        "\n",
        "      output = model(input_ids, token_type_ids, attn_mask_ids)\n",
        "      loss = loss_fn(output, label.view(-1))\n",
        "\n",
        "      output = output.detach().cpu().numpy()\n",
        "      label = label.detach().cpu().numpy()\n",
        "      pred = np.argmax(output, axis=1).flatten()\n",
        "\n",
        "      fin_targets.extend(label.tolist())\n",
        "      fin_outputs.extend(pred.tolist()) \n",
        "\n",
        "      del output\n",
        "      torch.cuda.empty_cache()\n",
        "  del tk0\n",
        "    \n",
        "  return fin_outputs, fin_targets\n",
        "  \n",
        "def fit(train_dataloader, valid_dataloader, EPOCHS=3):\n",
        "  Bert_cls=BertCls() #model\n",
        "  best_auc=None\n",
        "  if \"best.pt\" in os.listdir(PATH):\n",
        "    Bert_cls.load(PATH+\"best.pt\")\n",
        "    acc_df=pd.read_csv(PATH+\"acc.csv\")\n",
        "    best_auc=acc_df['acc']\n",
        "    print(\"Load from best model. ACC {}\".format(best_auc))\n",
        "    \n",
        "  Bert_cls=Bert_cls.to(DEVICE)\n",
        "  loss_fn = nn.CrossEntropyLoss() #loss\n",
        "  optimizer = torch.optim.AdamW(Bert_cls.parameters(),lr=lr) #optimizer\n",
        "\n",
        "  for i in range(EPOCHS):\n",
        "    print(f\"EPOCHS:{i+1}\")\n",
        "    print('TRAIN')\n",
        "    loss = train_one_epoch(train_dataloader, Bert_cls, optimizer, DEVICE, loss_fn)\n",
        "\n",
        "    print('EVAL')\n",
        "    outputs, targets = eval_one_epoch(valid_dataloader, Bert_cls,  DEVICE, loss_fn)\n",
        "    targets = np.array(targets)\n",
        "    auc = accuracy_score(targets, outputs)\n",
        "    print(f\"auc;{auc}\") \n",
        "\n",
        "    if best_auc==None or best_auc<auc:\n",
        "      print(\"Save model...\")\n",
        "      Bert_cls.save(PATH+\"best.pt\")\n",
        "      acc_df = pd.DataFrame({\"acc\":auc, \"loss\":loss}, index=[0])\n",
        "      acc_df.to_csv(PATH+\"acc.csv\")\n",
        "      best_auc=auc\n",
        "\n",
        "  return Bert_cls"
      ],
      "execution_count": 11,
      "outputs": []
    },
    {
      "cell_type": "code",
      "metadata": {
        "id": "RewV4FAu89f-"
      },
      "source": [
        "# 학습\n",
        "print(\"Making model...\")\n",
        "\n",
        "if torch.cuda.is_available():\n",
        "    DEVICE = torch.device(\"cuda\")\n",
        "    gc.collect()\n",
        "    torch.cuda.empty_cache()\n",
        "    print('There are %d GPU(s) available.' % torch.cuda.device_count())\n",
        "    print('We will use the GPU:', torch.cuda.get_device_name(0))\n",
        "else:\n",
        "    DEVICE = torch.device(\"cpu\")\n",
        "    print('No GPU available, using the CPU instead.')\n",
        "\n",
        "model = fit(train_dataloader, valid_dataloader)"
      ],
      "execution_count": null,
      "outputs": []
    },
    {
      "cell_type": "code",
      "metadata": {
        "id": "zWhOPruL-znA"
      },
      "source": [
        "model=BertCls()\n",
        "model.load(PATH+\"best.pt\")\n",
        "# DEVICE=\"cuda\"\n",
        "# model.to(DEVICE)\n",
        "\n",
        "tag=[\"기타\", \"상황\", \"인물\", \"대사\", \"묘사\", \"장소\", \"시간\", ]"
      ],
      "execution_count": 12,
      "outputs": []
    },
    {
      "cell_type": "code",
      "metadata": {
        "colab": {
          "base_uri": "https://localhost:8080/"
        },
        "id": "C-0jeku7T7b4",
        "outputId": "98c7874e-07d1-41d8-e70c-4e1445c123aa"
      },
      "source": [
        "prediction= model.predict(['JOHN'])\n",
        "print(tag[prediction])\n",
        "\n",
        "prediction=model.predict(['The sound of a man totally cracking up.'])\n",
        "print(tag[prediction])\n",
        "\n",
        "prediction=model.predict(['is it just me, or is it getting crazier out there?'])\n",
        "print(tag[prediction])\n",
        "\n",
        "prediction=model.predict(['INT. DEPT. OF HEALTH, OFFICE - MORNING'])\n",
        "print(tag[prediction])"
      ],
      "execution_count": 13,
      "outputs": [
        {
          "output_type": "stream",
          "text": [
            "인물\n",
            "상황\n",
            "대사\n",
            "장소\n"
          ],
          "name": "stdout"
        }
      ]
    }
  ]
}